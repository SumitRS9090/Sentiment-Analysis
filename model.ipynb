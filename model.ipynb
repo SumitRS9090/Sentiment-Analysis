{
 "cells": [
  {
   "cell_type": "code",
   "execution_count": 18,
   "id": "fbbda802-8879-4c0e-8a3d-9aff9cebc77b",
   "metadata": {},
   "outputs": [],
   "source": [
    "# ==============================================================\n",
    "# ENHANCED SENTIMENT ANALYSIS (Twitter Dataset)\n",
    "# ==============================================================\n",
    "\n",
    "# STEP 1: Import libraries\n",
    "import pandas as pd\n",
    "import numpy as np\n",
    "import re, string\n",
    "import seaborn as sns\n",
    "import matplotlib.pyplot as plt\n",
    "import joblib, warnings\n",
    "warnings.filterwarnings(\"ignore\")\n",
    "\n",
    "# NLP Preprocessing\n",
    "import nltk\n",
    "from nltk.corpus import stopwords\n",
    "from nltk.stem import WordNetLemmatizer\n",
    "\n",
    "# Sklearn\n",
    "from sklearn.model_selection import train_test_split, cross_val_score\n",
    "from sklearn.feature_extraction.text import TfidfVectorizer\n",
    "from sklearn.naive_bayes import MultinomialNB, BernoulliNB\n",
    "from sklearn.linear_model import LogisticRegression\n",
    "from sklearn.svm import LinearSVC\n",
    "from sklearn.metrics import (\n",
    "    accuracy_score, classification_report, confusion_matrix,\n",
    "    precision_score, recall_score, f1_score\n",
    ")"
   ]
  },
  {
   "cell_type": "code",
   "execution_count": 19,
   "id": "18571611-88ee-4387-b6b0-cf35c8ec119e",
   "metadata": {},
   "outputs": [
    {
     "name": "stdout",
     "output_type": "stream",
     "text": [
      "Dataset Shape: (74681, 4)\n",
      "\n",
      "Columns: ['2401', 'Borderlands', 'Positive', 'im getting on borderlands and i will murder you all ,']\n",
      "   2401  Borderlands  Positive  \\\n",
      "0  2401  Borderlands  Positive   \n",
      "1  2401  Borderlands  Positive   \n",
      "2  2401  Borderlands  Positive   \n",
      "3  2401  Borderlands  Positive   \n",
      "4  2401  Borderlands  Positive   \n",
      "\n",
      "  im getting on borderlands and i will murder you all ,  \n",
      "0  I am coming to the borders and I will kill you...     \n",
      "1  im getting on borderlands and i will kill you ...     \n",
      "2  im coming on borderlands and i will murder you...     \n",
      "3  im getting on borderlands 2 and i will murder ...     \n",
      "4  im getting into borderlands and i can murder y...     \n",
      "\n",
      "Unique Sentiments: ['Positive' 'Neutral' 'Negative' 'Irrelevant']\n"
     ]
    }
   ],
   "source": [
    "# --------------------------------------------------------------\n",
    "# STEP 2: Load Dataset\n",
    "# --------------------------------------------------------------\n",
    "df = pd.read_csv(\"dataset.csv\")   # replace with actual file\n",
    "print(\"Dataset Shape:\", df.shape)\n",
    "print(\"\\nColumns:\", df.columns.tolist())\n",
    "print(df.head())\n",
    "\n",
    "# Adjust column names if necessary\n",
    "df.rename(columns={df.columns[0]:'id', df.columns[1]:'entity',\n",
    "                   df.columns[2]:'sentiment', df.columns[3]:'text'}, inplace=True)\n",
    "\n",
    "df = df[['sentiment','text']].dropna()\n",
    "print(\"\\nUnique Sentiments:\", df['sentiment'].unique())"
   ]
  },
  {
   "cell_type": "code",
   "execution_count": 20,
   "id": "ca99f7b4-2a58-4b1b-af35-934f8ec2da88",
   "metadata": {},
   "outputs": [
    {
     "name": "stderr",
     "output_type": "stream",
     "text": [
      "[nltk_data] Downloading package stopwords to\n",
      "[nltk_data]     C:\\Users\\Sumit\\AppData\\Roaming\\nltk_data...\n",
      "[nltk_data]   Package stopwords is already up-to-date!\n",
      "[nltk_data] Downloading package wordnet to\n",
      "[nltk_data]     C:\\Users\\Sumit\\AppData\\Roaming\\nltk_data...\n",
      "[nltk_data]   Package wordnet is already up-to-date!\n"
     ]
    },
    {
     "name": "stdout",
     "output_type": "stream",
     "text": [
      "\n",
      "Sample cleaned tweets:\n",
      "                                                 text  \\\n",
      "0  I am coming to the borders and I will kill you...   \n",
      "1  im getting on borderlands and i will kill you ...   \n",
      "2  im coming on borderlands and i will murder you...   \n",
      "3  im getting on borderlands 2 and i will murder ...   \n",
      "4  im getting into borderlands and i can murder y...   \n",
      "\n",
      "                     clean_text  \n",
      "0            coming border kill  \n",
      "1    im getting borderland kill  \n",
      "2   im coming borderland murder  \n",
      "3  im getting borderland murder  \n",
      "4  im getting borderland murder  \n"
     ]
    }
   ],
   "source": [
    "# --------------------------------------------------------------\n",
    "# STEP 3: Advanced Data Cleaning\n",
    "# --------------------------------------------------------------\n",
    "nltk.download(\"stopwords\")\n",
    "nltk.download(\"wordnet\")\n",
    "stop_words = set(stopwords.words(\"english\"))\n",
    "lemmatizer = WordNetLemmatizer()\n",
    "\n",
    "def clean_text(text):\n",
    "    text = str(text).lower()\n",
    "    text = re.sub(r\"http\\S+|www\\S+\", \"\", text)\n",
    "    text = re.sub(r\"@\\w+\", \"\", text)\n",
    "    text = re.sub(r\"#\\w+\", \"\", text)\n",
    "    text = text.translate(str.maketrans(\"\", \"\", string.punctuation))\n",
    "    text = re.sub(r\"\\d+\", \"\", text)\n",
    "    tokens = text.split()\n",
    "    tokens = [lemmatizer.lemmatize(w) for w in tokens if w not in stop_words]\n",
    "    return \" \".join(tokens)\n",
    "\n",
    "df['clean_text'] = df['text'].apply(clean_text)\n",
    "print(\"\\nSample cleaned tweets:\\n\", df[['text','clean_text']].head())\n",
    "\n",
    "# Encode labels uniformly\n",
    "df['sentiment'] = df['sentiment'].map({\n",
    "    \"Positive\":\"positive\", \"Negative\":\"negative\",\n",
    "    \"Neutral\":\"neutral\", \"Irrelevant\":\"irrelevant\"\n",
    "})"
   ]
  },
  {
   "cell_type": "code",
   "execution_count": 21,
   "id": "a63d8513-fe5b-4cc0-83df-65df20fea85f",
   "metadata": {},
   "outputs": [
    {
     "data": {
      "image/png": "[encoded data removed]",
      "text/plain": [
       "<Figure size 600x400 with 1 Axes>"
      ]
     },
     "metadata": {},
     "output_type": "display_data"
    },
    {
     "name": "stdout",
     "output_type": "stream",
     "text": [
      "\n",
      "Class distribution:\n",
      " sentiment\n",
      "negative      22358\n",
      "positive      20654\n",
      "neutral       18108\n",
      "irrelevant    12875\n",
      "Name: count, dtype: int64\n"
     ]
    }
   ],
   "source": [
    "# --------------------------------------------------------------\n",
    "# STEP 4: Class Distribution\n",
    "# --------------------------------------------------------------\n",
    "plt.figure(figsize=(6,4))\n",
    "sns.countplot(x=df['sentiment'], palette=\"Set2\")\n",
    "plt.title(\"Sentiment Distribution\")\n",
    "plt.show()\n",
    "\n",
    "print(\"\\nClass distribution:\\n\", df['sentiment'].value_counts())"
   ]
  },
  {
   "cell_type": "code",
   "execution_count": 22,
   "id": "5cc40d8d-f153-4797-ac73-aaaa9a30d8f8",
   "metadata": {},
   "outputs": [
    {
     "name": "stdout",
     "output_type": "stream",
     "text": [
      "\n",
      "Train size: 59196  | Test size: 14799\n"
     ]
    }
   ],
   "source": [
    "# --------------------------------------------------------------\n",
    "# STEP 5: Split Data\n",
    "# --------------------------------------------------------------\n",
    "X = df['clean_text']\n",
    "y = df['sentiment']\n",
    "\n",
    "X_train, X_test, y_train, y_test = train_test_split(\n",
    "    X, y, test_size=0.2, random_state=42, stratify=y\n",
    ")\n",
    "print(\"\\nTrain size:\", len(X_train), \" | Test size:\", len(X_test))\n"
   ]
  },
  {
   "cell_type": "code",
   "execution_count": 25,
   "id": "87213c11-1689-4c22-a243-f63d879f3edf",
   "metadata": {},
   "outputs": [
    {
     "name": "stdout",
     "output_type": "stream",
     "text": [
      "TF-IDF vectorized: (59196, 10000)\n"
     ]
    }
   ],
   "source": [
    "# --------------------------------------------------------------\n",
    "# STEP 6: Vectorization (TF-IDF with bigrams)\n",
    "# --------------------------------------------------------------\n",
    "tfidf = TfidfVectorizer(stop_words=\"english\", max_features=10000, ngram_range=(1,2))\n",
    "X_train_vec = tfidf.fit_transform(X_train)\n",
    "X_test_vec = tfidf.transform(X_test)\n",
    "print(\"TF-IDF vectorized:\", X_train_vec.shape)"
   ]
  },
  {
   "cell_type": "code",
   "execution_count": null,
   "id": "19370d4b-6d6f-4a23-96c9-12eda98f6895",
   "metadata": {},
   "outputs": [
    {
     "name": "stdout",
     "output_type": "stream",
     "text": [
      "\n",
      "=== MultinomialNB ===\n"
     ]
    }
   ],
   "source": [
    "# --------------------------------------------------------------\n",
    "# STEP 7: Train & Evaluate Models\n",
    "# --------------------------------------------------------------\n",
    "models = {\n",
    "    \"MultinomialNB\": MultinomialNB(),\n",
    "    \"BernoulliNB\": BernoulliNB(),\n",
    "    \"LogisticRegression\": LogisticRegression(max_iter=1000),\n",
    "}\n",
    "\n",
    "results = []\n",
    "\n",
    "for name, model in models.items():\n",
    "    model.fit(X_train_vec, y_train)\n",
    "    y_pred = model.predict(X_test_vec)\n",
    "\n",
    "    acc = accuracy_score(y_test, y_pred)\n",
    "    prec = precision_score(y_test, y_pred, average='weighted', zero_division=0)\n",
    "    rec = recall_score(y_test, y_pred, average='weighted', zero_division=0)\n",
    "    f1 = f1_score(y_test, y_pred, average='weighted', zero_division=0)\n",
    "\n",
    "    results.append([name, acc, prec, rec, f1])\n",
    "\n",
    "    print(f\"\\n=== {name} ===\")\n",
    "    print(classification_report(y_test, y_pred, zero_division=0))"
   ]
  },
  {
   "cell_type": "code",
   "execution_count": null,
   "id": "608c8cfa-e5d3-4871-8235-abfe840555c4",
   "metadata": {},
   "outputs": [],
   "source": [
    "# --------------------------------------------------------------\n",
    "# STEP 8: Results Comparison\n",
    "# --------------------------------------------------------------\n",
    "results_df = pd.DataFrame(results, columns=[\"Model\",\"Accuracy\",\"Precision\",\"Recall\",\"F1\"])\n",
    "print(\"\\nModel Performance Comparison:\\n\", results_df)\n",
    "\n",
    "plt.figure(figsize=(8,5))\n",
    "sns.barplot(x=\"Model\", y=\"F1\", data=results_df, palette=\"viridis\")\n",
    "plt.title(\"Model Comparison (F1 Score)\")\n",
    "plt.show()"
   ]
  }
 ],
 "metadata": {
  "kernelspec": {
   "display_name": "Python [conda env:base] *",
   "language": "python",
   "name": "conda-base-py"
  },
  "language_info": {
   "codemirror_mode": {
    "name": "ipython",
    "version": 3
   },
   "file_extension": ".py",
   "mimetype": "text/x-python",
   "name": "python",
   "nbconvert_exporter": "python",
   "pygments_lexer": "ipython3",
   "version": "3.12.7"
  }
 },
 "nbformat": 4,
 "nbformat_minor": 5
}
